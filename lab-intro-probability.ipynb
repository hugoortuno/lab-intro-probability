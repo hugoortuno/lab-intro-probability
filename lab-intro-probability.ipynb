{
 "cells": [
  {
   "cell_type": "markdown",
   "metadata": {},
   "source": [
    "# Lab | Intro to Probability"
   ]
  },
  {
   "cell_type": "markdown",
   "metadata": {},
   "source": [
    "**Objective**\n",
    "\n",
    "Welcome to this Intro to Probability lab, where we explore decision-making scenarios through the lens of probability and strategic analysis. In the business world, making informed decisions is crucial, especially when faced with uncertainties. This lab focuses on scenarios where probabilistic outcomes play a significant role in shaping strategies and outcomes. Students will engage in exercises that require assessing and choosing optimal paths based on data-driven insights. The goal is to enhance your skills by applying probability concepts to solve real-world problems."
   ]
  },
  {
   "cell_type": "markdown",
   "metadata": {},
   "source": [
    "**Challenge 1**"
   ]
  },
  {
   "cell_type": "markdown",
   "metadata": {},
   "source": [
    "#### Ironhack Airlines \n",
    "\n",
    "Often Airlines sell more tickets than they have seats available, this is called overbooking. Consider the following:\n",
    "- A plane has 450 seats. \n",
    "- Based on historical data we conclude that each individual passenger has a 3% chance of missing it's flight. \n",
    "\n",
    "If the Ironhack Airlines routinely sells 460 tickets, what is the chance that they have a seats for all passenger?"
   ]
  },
  {
   "cell_type": "code",
   "execution_count": 1,
   "metadata": {},
   "outputs": [
    {
     "name": "stdout",
     "output_type": "stream",
     "text": [
      "La probabilidad de que haya suficientes asientos para todos los pasajeros es: 0.8845\n"
     ]
    }
   ],
   "source": [
    "#code here\n",
    "\n",
    "from scipy.stats import binom\n",
    "\n",
    "# Paso 1: Definir los parámetros del problema\n",
    "n = 460  # número de boletos vendidos\n",
    "p = 0.97  # probabilidad de que un pasajero se presente (1 - 0.03)\n",
    "k = 450  # número máximo de asientos disponibles\n",
    "\n",
    "# Paso 2: Calcular la probabilidad acumulada (CDF) de que 450 o menos pasajeros se presenten\n",
    "probabilidad_asientos = binom.cdf(k, n, p)\n",
    "\n",
    "print(f\"La probabilidad de que haya suficientes asientos para todos los pasajeros es: {probabilidad_asientos:.4f}\")\n"
   ]
  },
  {
   "cell_type": "markdown",
   "metadata": {},
   "source": [
    "**Challenge 2**"
   ]
  },
  {
   "cell_type": "markdown",
   "metadata": {},
   "source": [
    "#### Ironhack Call Center "
   ]
  },
  {
   "cell_type": "markdown",
   "metadata": {},
   "source": [
    "Suppose a customer service representative at a call center is handling customer complaints. Consider the following:\n",
    "- The probability of successfully resolving a customer complaint on the first attempt is 0.3. \n",
    "\n",
    "\n",
    "What is the probability that the representative needs to make at least three attempts before successfully resolving a customer complaint?"
   ]
  },
  {
   "cell_type": "code",
   "execution_count": 2,
   "metadata": {},
   "outputs": [
    {
     "name": "stdout",
     "output_type": "stream",
     "text": [
      "La probabilidad de que se necesiten al menos tres intentos es: 0.4900\n"
     ]
    }
   ],
   "source": [
    "#code here\n",
    "\n",
    "from scipy.stats import geom\n",
    "\n",
    "# Paso 1: Definir la probabilidad de éxito en un intento\n",
    "p = 0.3  # probabilidad de éxito en el primer intento\n",
    "\n",
    "# Paso 2: Calcular la probabilidad de necesitar al menos tres intentos\n",
    "k = 3\n",
    "probabilidad_tres_intentos = 1 - geom.cdf(k-1, p)\n",
    "\n",
    "print(f\"La probabilidad de que se necesiten al menos tres intentos es: {probabilidad_tres_intentos:.4f}\")\n"
   ]
  },
  {
   "cell_type": "markdown",
   "metadata": {},
   "source": [
    "**Challenge 3**"
   ]
  },
  {
   "cell_type": "markdown",
   "metadata": {},
   "source": [
    "#### Ironhack Website"
   ]
  },
  {
   "cell_type": "markdown",
   "metadata": {},
   "source": [
    "Consider a scenario related to Ironhack website traffic. Where:\n",
    "- our website takes on average 500 visits per hour.\n",
    "- the website's server is designed to handle up to 550 vists per hour.\n",
    "\n",
    "\n",
    "What is the probability of the website server being overwhelmed?"
   ]
  },
  {
   "cell_type": "code",
   "execution_count": 4,
   "metadata": {},
   "outputs": [
    {
     "name": "stdout",
     "output_type": "stream",
     "text": [
      "La probabilidad de que el servidor sea abrumado en una hora es: 0.0129\n"
     ]
    }
   ],
   "source": [
    "#code here\n",
    "\n",
    "from scipy.stats import poisson\n",
    "\n",
    "# Paso 1: Definir la tasa de visitas por hora\n",
    "lambda_visitas = 500  # visitas promedio por hora\n",
    "umbral = 550  # capacidad máxima del servidor\n",
    "\n",
    "# Paso 2: Calcular la probabilidad de tener más de 550 visitas (1 - CDF)\n",
    "probabilidad_abrumado = 1 - poisson.cdf(umbral, lambda_visitas)\n",
    "\n",
    "print(f\"La probabilidad de que el servidor sea abrumado en una hora es: {probabilidad_abrumado:.4f}\")\n"
   ]
  },
  {
   "cell_type": "markdown",
   "metadata": {},
   "source": [
    "What is the probability of being overwhelmed at some point during a day? (consider 24hours)"
   ]
  },
  {
   "cell_type": "code",
   "execution_count": 5,
   "metadata": {},
   "outputs": [
    {
     "name": "stdout",
     "output_type": "stream",
     "text": [
      "La probabilidad de que el servidor sea abrumado en algún momento durante el día es: 0.2677\n"
     ]
    }
   ],
   "source": [
    "#code here\n",
    "\n",
    "# Paso 1: Probabilidad de no ser abrumado en una hora\n",
    "probabilidad_no_abrumado = 1 - probabilidad_abrumado\n",
    "\n",
    "# Paso 2: Calcular la probabilidad de no ser abrumado en las 24 horas\n",
    "probabilidad_no_abrumado_24h = probabilidad_no_abrumado ** 24\n",
    "\n",
    "# Paso 3: Calcular la probabilidad de ser abrumado en algún momento del día\n",
    "probabilidad_abrumado_24h = 1 - probabilidad_no_abrumado_24h\n",
    "\n",
    "print(f\"La probabilidad de que el servidor sea abrumado en algún momento durante el día es: {probabilidad_abrumado_24h:.4f}\")\n"
   ]
  },
  {
   "cell_type": "markdown",
   "metadata": {},
   "source": [
    "**Challenge 4**"
   ]
  },
  {
   "cell_type": "markdown",
   "metadata": {},
   "source": [
    "#### Ironhack Helpdesk"
   ]
  },
  {
   "cell_type": "markdown",
   "metadata": {},
   "source": [
    "Consider a scenario related to the time between arrivals of customers at a service desk.\n",
    "\n",
    "On average, a customers arrives every 10minutes.\n",
    "\n",
    "What is the probability that the next customer will arrive within the next 5 minutes?"
   ]
  },
  {
   "cell_type": "markdown",
   "metadata": {},
   "source": [
    "If there is no customer for 15minutes, employees can that a 5minutes break.\n",
    "\n",
    "What is the probability an employee taking a break?"
   ]
  },
  {
   "cell_type": "code",
   "execution_count": 6,
   "metadata": {},
   "outputs": [
    {
     "name": "stdout",
     "output_type": "stream",
     "text": [
      "La probabilidad de que el próximo cliente llegue en los próximos 5 minutos es: 0.3935\n"
     ]
    }
   ],
   "source": [
    "# code 1\n",
    "\n",
    "from scipy.stats import expon\n",
    "\n",
    "# Paso 1: Definir la tasa promedio de llegadas\n",
    "lambda_llegadas = 1 / 10  # 1 cliente cada 10 minutos\n",
    "\n",
    "# Paso 2: Calcular la probabilidad de que el cliente llegue en 5 minutos o menos (CDF)\n",
    "tiempo = 5\n",
    "probabilidad_llegada_5min = expon.cdf(tiempo, scale=1/lambda_llegadas)\n",
    "\n",
    "print(f\"La probabilidad de que el próximo cliente llegue en los próximos 5 minutos es: {probabilidad_llegada_5min:.4f}\")\n"
   ]
  },
  {
   "cell_type": "code",
   "execution_count": 7,
   "metadata": {},
   "outputs": [
    {
     "name": "stdout",
     "output_type": "stream",
     "text": [
      "La probabilidad de que el empleado pueda tomar un descanso es: 0.2231\n"
     ]
    }
   ],
   "source": [
    "# code 2\n",
    "\n",
    "# Paso 1: Calcular la probabilidad de no tener clientes en 15 minutos o más (1 - CDF)\n",
    "tiempo_descanso = 15\n",
    "probabilidad_descanso = 1 - expon.cdf(tiempo_descanso, scale=1/lambda_llegadas)\n",
    "\n",
    "print(f\"La probabilidad de que el empleado pueda tomar un descanso es: {probabilidad_descanso:.4f}\")\n"
   ]
  },
  {
   "cell_type": "markdown",
   "metadata": {},
   "source": [
    "**Challenge 5**"
   ]
  },
  {
   "cell_type": "markdown",
   "metadata": {},
   "source": [
    "The weights of a certain species of birds follow a normal distribution with a mean weight of 150 grams and a standard deviation of 10 grams. \n",
    "\n",
    "- If we randomly select a bird, what is the probability that its weight is between 140 and 160 grams?"
   ]
  },
  {
   "cell_type": "code",
   "execution_count": 8,
   "metadata": {},
   "outputs": [
    {
     "name": "stdout",
     "output_type": "stream",
     "text": [
      "La probabilidad de que el peso esté entre 140 y 160 gramos es: 0.6827\n"
     ]
    }
   ],
   "source": [
    "#code here\n",
    "\n",
    "from scipy.stats import norm\n",
    "\n",
    "# Paso 1: Definir los parámetros de la distribución normal\n",
    "mu = 150  # media\n",
    "sigma = 10  # desviación estándar\n",
    "\n",
    "# Paso 2: Calcular la probabilidad de estar entre 140 y 160 gramos\n",
    "probabilidad_140_160 = norm.cdf(160, mu, sigma) - norm.cdf(140, mu, sigma)\n",
    "\n",
    "print(f\"La probabilidad de que el peso esté entre 140 y 160 gramos es: {probabilidad_140_160:.4f}\")\n"
   ]
  },
  {
   "cell_type": "markdown",
   "metadata": {},
   "source": [
    "**Challenge 6**"
   ]
  },
  {
   "cell_type": "markdown",
   "metadata": {},
   "source": [
    "If the lifetime (in hours) of a certain electronic component follows an exponential distribution with a mean lifetime of 50 hours, what is the probability that the component fails within the first 30 hours?"
   ]
  },
  {
   "cell_type": "code",
   "execution_count": 9,
   "metadata": {},
   "outputs": [
    {
     "name": "stdout",
     "output_type": "stream",
     "text": [
      "La probabilidad de que el componente falle en las primeras 30 horas es: 0.4512\n"
     ]
    }
   ],
   "source": [
    "#code here\n",
    "\n",
    "# Paso 1: Definir la tasa de fallos\n",
    "lambda_fallo = 1 / 50  # vida media de 50 horas\n",
    "\n",
    "# Paso 2: Calcular la probabilidad de que el componente falle en las primeras 30 horas\n",
    "tiempo_fallo = 30\n",
    "probabilidad_fallo_30h = expon.cdf(tiempo_fallo, scale=1/lambda_fallo)\n",
    "\n",
    "print(f\"La probabilidad de que el componente falle en las primeras 30 horas es: {probabilidad_fallo_30h:.4f}\")\n"
   ]
  }
 ],
 "metadata": {
  "kernelspec": {
   "display_name": "Python 3",
   "language": "python",
   "name": "python3"
  },
  "language_info": {
   "codemirror_mode": {
    "name": "ipython",
    "version": 3
   },
   "file_extension": ".py",
   "mimetype": "text/x-python",
   "name": "python",
   "nbconvert_exporter": "python",
   "pygments_lexer": "ipython3",
   "version": "3.11.9"
  }
 },
 "nbformat": 4,
 "nbformat_minor": 2
}
